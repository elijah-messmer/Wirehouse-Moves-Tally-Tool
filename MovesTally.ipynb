{
 "cells": [
  {
   "cell_type": "code",
   "execution_count": 5,
   "id": "f6201630",
   "metadata": {},
   "outputs": [
    {
     "name": "stderr",
     "output_type": "stream",
     "text": [
      "\n",
      "[notice] A new release of pip is available: 24.3.1 -> 25.1.1\n",
      "[notice] To update, run: python.exe -m pip install --upgrade pip\n"
     ]
    },
    {
     "name": "stdout",
     "output_type": "stream",
     "text": [
      "Requirement already satisfied: requests in c:\\users\\elijah.messmer\\documents\\wirehouse moves tally tool\\.venv\\lib\\site-packages (2.32.4)\n",
      "Requirement already satisfied: pandas in c:\\users\\elijah.messmer\\documents\\wirehouse moves tally tool\\.venv\\lib\\site-packages (2.3.1)\n",
      "Requirement already satisfied: python-dotenv in c:\\users\\elijah.messmer\\documents\\wirehouse moves tally tool\\.venv\\lib\\site-packages (1.1.1)\n",
      "Requirement already satisfied: charset_normalizer<4,>=2 in c:\\users\\elijah.messmer\\documents\\wirehouse moves tally tool\\.venv\\lib\\site-packages (from requests) (3.4.2)\n",
      "Requirement already satisfied: idna<4,>=2.5 in c:\\users\\elijah.messmer\\documents\\wirehouse moves tally tool\\.venv\\lib\\site-packages (from requests) (3.10)\n",
      "Requirement already satisfied: urllib3<3,>=1.21.1 in c:\\users\\elijah.messmer\\documents\\wirehouse moves tally tool\\.venv\\lib\\site-packages (from requests) (2.5.0)\n",
      "Requirement already satisfied: certifi>=2017.4.17 in c:\\users\\elijah.messmer\\documents\\wirehouse moves tally tool\\.venv\\lib\\site-packages (from requests) (2025.7.14)\n",
      "Requirement already satisfied: numpy>=1.26.0 in c:\\users\\elijah.messmer\\documents\\wirehouse moves tally tool\\.venv\\lib\\site-packages (from pandas) (2.3.1)\n",
      "Requirement already satisfied: python-dateutil>=2.8.2 in c:\\users\\elijah.messmer\\documents\\wirehouse moves tally tool\\.venv\\lib\\site-packages (from pandas) (2.9.0.post0)\n",
      "Requirement already satisfied: pytz>=2020.1 in c:\\users\\elijah.messmer\\documents\\wirehouse moves tally tool\\.venv\\lib\\site-packages (from pandas) (2025.2)\n",
      "Requirement already satisfied: tzdata>=2022.7 in c:\\users\\elijah.messmer\\documents\\wirehouse moves tally tool\\.venv\\lib\\site-packages (from pandas) (2025.2)\n",
      "Requirement already satisfied: six>=1.5 in c:\\users\\elijah.messmer\\documents\\wirehouse moves tally tool\\.venv\\lib\\site-packages (from python-dateutil>=2.8.2->pandas) (1.17.0)\n",
      "Note: you may need to restart the kernel to use updated packages.\n"
     ]
    }
   ],
   "source": [
    "%pip install requests pandas python-dotenv\n",
    "\n",
    "import os\n",
    "from dotenv import load_dotenv\n",
    "import requests\n",
    "import pandas as pd\n",
    "from io import StringIO"
   ]
  },
  {
   "cell_type": "code",
   "execution_count": null,
   "id": "b8f1b162",
   "metadata": {},
   "outputs": [
    {
     "name": "stdout",
     "output_type": "stream",
     "text": [
      "         starts  leaves  net_change\n",
      "1985-01       1       0           1\n",
      "1986-04       1       0           1\n",
      "1986-08       1       0           1\n",
      "1986-11       1       0           1\n",
      "1988-09       1       0           1\n",
      "...         ...     ...         ...\n",
      "2025-03      50      14          36\n",
      "2025-04      61      17          44\n",
      "2025-05      33      53         -20\n",
      "2025-06      35      31           4\n",
      "2025-07      33      29           4\n",
      "\n",
      "[389 rows x 3 columns]\n"
     ]
    }
   ],
   "source": [
    "# Load .env file\n",
    "load_dotenv()\n",
    "\n",
    "# Get the token from the environment\n",
    "token = os.getenv(\"PAT\")\n",
    "\n",
    "# Set up your request\n",
    "url = \"https://raw.githubusercontent.com/elijah-messmer/Wirehouse-Tracker/refs/heads/main/Commonwealth_Advisors.csv\"\n",
    "headers = {\"Authorization\": f\"token {token}\"}\n",
    "r = requests.get(url, headers=headers)\n",
    "\n",
    "# Load the CSV\n",
    "df = pd.read_csv(StringIO(r.text))\n",
    "\n",
    "# Reshape Data from Wide to Long\n",
    "# ---------------------------------\n",
    "# This stacks employment records into a format ideal for analysis.\n",
    "df_long = pd.wide_to_long(\n",
    "    df,\n",
    "    stubnames=['firmName', 'registrationBeginDate', 'registrationEndDate', 'employmentStatus'],\n",
    "    i='CRD',\n",
    "    j='employment_record_id',\n",
    "    sep='_',\n",
    "    suffix='\\\\d+'\n",
    ").reset_index()\n",
    "\n",
    "# 3. Filter for the Target Firm\n",
    "# -----------------------------\n",
    "TARGET_FIRM = 'COMMONWEALTH FINANCIAL NETWORK'\n",
    "cwn_df = df_long[df_long['firmName'] == TARGET_FIRM].copy()\n",
    "\n",
    "# 4. Tally Starts and Leaves by Month (Using String Slicing)\n",
    "# ----------------------------------------------------------\n",
    "# Group by the first 7 characters of the date string (e.g., '2023-10').\n",
    "monthly_starts = cwn_df.dropna(subset=['registrationBeginDate']).groupby(\n",
    "    cwn_df['registrationBeginDate'].str[:7]\n",
    ").size().rename('starts')\n",
    "\n",
    "monthly_leaves = cwn_df.dropna(subset=['registrationEndDate']).groupby(\n",
    "    cwn_df['registrationEndDate'].str[:7]\n",
    ").size().rename('leaves')\n",
    "\n",
    "# 5. Combine and Calculate Net Change\n",
    "# -----------------------------------\n",
    "net_flow = pd.concat([monthly_starts, monthly_leaves], axis=1).fillna(0).astype(int)\n",
    "net_flow['net_change'] = net_flow['starts'] - net_flow['leaves']\n",
    "\n",
    "# In your Python script (e.g., analyze_advisors.py)\n",
    "net_flow.reset_index().to_json('results.json', orient='split', indent=4)\n",
    "\n",
    "print(net_flow.sort_index())"
   ]
  }
 ],
 "metadata": {
  "kernelspec": {
   "display_name": ".venv (3.13.2)",
   "language": "python",
   "name": "python3"
  },
  "language_info": {
   "codemirror_mode": {
    "name": "ipython",
    "version": 3
   },
   "file_extension": ".py",
   "mimetype": "text/x-python",
   "name": "python",
   "nbconvert_exporter": "python",
   "pygments_lexer": "ipython3",
   "version": "3.13.2"
  }
 },
 "nbformat": 4,
 "nbformat_minor": 5
}
